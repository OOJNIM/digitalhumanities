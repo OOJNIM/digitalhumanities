{
  "nbformat": 4,
  "nbformat_minor": 0,
  "metadata": {
    "colab": {
      "provenance": [],
      "authorship_tag": "ABX9TyM21rnXfbSZDbz/yWsr3YFI",
      "include_colab_link": true
    },
    "kernelspec": {
      "name": "python3",
      "display_name": "Python 3"
    },
    "language_info": {
      "name": "python"
    }
  },
  "cells": [
    {
      "cell_type": "markdown",
      "metadata": {
        "id": "view-in-github",
        "colab_type": "text"
      },
      "source": [
        "<a href=\"https://colab.research.google.com/github/OOJNIM/digitalhumanities/blob/main/%EC%9D%8C%EC%84%B1%EC%9D%B8%EC%8B%9D%EA%B3%BC%EC%A0%9C%EC%84%9C%EB%AF%BC%EC%A3%BC121.ipynb\" target=\"_parent\"><img src=\"https://colab.research.google.com/assets/colab-badge.svg\" alt=\"Open In Colab\"/></a>"
      ]
    },
    {
      "cell_type": "code",
      "execution_count": null,
      "metadata": {
        "id": "yXcHG33eOv2v"
      },
      "outputs": [],
      "source": []
    }
  ]
}