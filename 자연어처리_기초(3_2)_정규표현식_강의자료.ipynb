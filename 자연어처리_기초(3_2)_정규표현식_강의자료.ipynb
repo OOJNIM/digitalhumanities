{
  "nbformat": 4,
  "nbformat_minor": 0,
  "metadata": {
    "colab": {
      "provenance": [],
      "include_colab_link": true
    },
    "kernelspec": {
      "name": "python3",
      "display_name": "Python 3"
    },
    "language_info": {
      "name": "python"
    }
  },
  "cells": [
    {
      "cell_type": "markdown",
      "metadata": {
        "id": "view-in-github",
        "colab_type": "text"
      },
      "source": [
        "<a href=\"https://colab.research.google.com/github/OOJNIM/digitalhumanities/blob/main/%EC%9E%90%EC%97%B0%EC%96%B4%EC%B2%98%EB%A6%AC_%EA%B8%B0%EC%B4%88(3_2)_%EC%A0%95%EA%B7%9C%ED%91%9C%ED%98%84%EC%8B%9D_%EA%B0%95%EC%9D%98%EC%9E%90%EB%A3%8C.ipynb\" target=\"_parent\"><img src=\"https://colab.research.google.com/assets/colab-badge.svg\" alt=\"Open In Colab\"/></a>"
      ]
    },
    {
      "cell_type": "markdown",
      "source": [
        "### **정규표현식**\n",
        "\n",
        "\n",
        "- 특정한 패턴과 일치하는 문자열를 '검색', '치환', '제거' 하는 기능을 지원\n",
        "- 정규표현식의 도움없이 패턴을 찾는 작업(Rule 기반)은 불완전 하거나, 작업의 cost가 높음\n",
        "- 텍스트나 데이터 전처리를 직접 할때 많이 사용"
      ],
      "metadata": {
        "id": "J_a4O92Fw6NL"
      }
    },
    {
      "cell_type": "markdown",
      "source": [
        "1.   \\w - 문자 character와 일치 [a-zA-Z0-9_]\n",
        "2.   \\s - 공백문자와 일치\n",
        "3. \\t, \\n, \\r - tab, newline, return\n",
        "4. \\d - 숫자 character와 일치 [0-9]\n",
        "5. ^ = 시작, $ = 끝 각각 문자열의 시작과 끝을 의미"
      ],
      "metadata": {
        "id": "3fYCMrTSw_WO"
      }
    },
    {
      "cell_type": "code",
      "execution_count": null,
      "metadata": {
        "id": "-hHwG3Daw3iJ"
      },
      "outputs": [],
      "source": [
        "#re :: 정규표현식을 지원하는 모듈\n",
        "\n"
      ]
    },
    {
      "cell_type": "code",
      "source": [
        "#search:: re에 속해있는 method 중 하나로, 첫번째로 패턴을 찾으면 match 객체를 반환 패턴을 찾지 못하면 None 반환\n",
        "\n"
      ],
      "metadata": {
        "id": "0WepKXZyxBm-"
      },
      "execution_count": null,
      "outputs": []
    },
    {
      "cell_type": "code",
      "source": [],
      "metadata": {
        "id": "C2KxPqIsxCyO"
      },
      "execution_count": null,
      "outputs": []
    },
    {
      "cell_type": "code",
      "source": [],
      "metadata": {
        "id": "5ZaoHLlRxEV-"
      },
      "execution_count": null,
      "outputs": []
    },
    {
      "cell_type": "code",
      "source": [
        "#sub: re에 속해있는 method 중 하나로, 특정 단어나 문자를 대체하는 기능을 함\n",
        "# apple 또는 orange를 fruit로 바꿈\n"
      ],
      "metadata": {
        "id": "nDM6FRYwxGtO"
      },
      "execution_count": null,
      "outputs": []
    },
    {
      "cell_type": "code",
      "source": [
        "# 숫자만 찾아서 n으로 바꿈\n",
        "\n"
      ],
      "metadata": {
        "id": "bik5pPlSxJlW"
      },
      "execution_count": null,
      "outputs": []
    },
    {
      "cell_type": "code",
      "source": [],
      "metadata": {
        "id": "HB-lUn_TxL1-"
      },
      "execution_count": null,
      "outputs": []
    }
  ]
}