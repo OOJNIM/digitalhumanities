{
  "nbformat": 4,
  "nbformat_minor": 0,
  "metadata": {
    "colab": {
      "provenance": [],
      "include_colab_link": true
    },
    "kernelspec": {
      "name": "python3",
      "display_name": "Python 3"
    },
    "language_info": {
      "name": "python"
    }
  },
  "cells": [
    {
      "cell_type": "markdown",
      "metadata": {
        "id": "view-in-github",
        "colab_type": "text"
      },
      "source": [
        "<a href=\"https://colab.research.google.com/github/OOJNIM/digitalhumanities/blob/main/%EC%9E%90%EC%97%B0%EC%96%B4%EC%B2%98%EB%A6%AC_%EA%B8%B0%EC%B4%88(3_2)_%EC%A0%95%EA%B7%9C%ED%91%9C%ED%98%84%EC%8B%9D_%EA%B0%95%EC%9D%98%EC%9E%90%EB%A3%8C.ipynb\" target=\"_parent\"><img src=\"https://colab.research.google.com/assets/colab-badge.svg\" alt=\"Open In Colab\"/></a>"
      ]
    },
    {
      "cell_type": "markdown",
      "source": [
        "### **정규표현식**\n",
        "\n",
        "\n",
        "- 특정한 패턴과 일치하는 문자열를 '검색', '치환', '제거' 하는 기능을 지원\n",
        "- 정규표현식의 도움없이 패턴을 찾는 작업(Rule 기반)은 불완전 하거나, 작업의 cost가 높음\n",
        "- 텍스트나 데이터 전처리를 직접 할때 많이 사용"
      ],
      "metadata": {
        "id": "J_a4O92Fw6NL"
      }
    },
    {
      "cell_type": "markdown",
      "source": [
        "1.   \\w - 문자 character와 일치 [a-zA-Z0-9_]\n",
        "2.   \\s - 공백문자와 일치\n",
        "3. \\t, \\n, \\r - tab, newline, return\n",
        "4. \\d - 숫자 character와 일치 [0-9]\n",
        "5. ^ = 시작, $ = 끝 각각 문자열의 시작과 끝을 의미"
      ],
      "metadata": {
        "id": "3fYCMrTSw_WO"
      }
    },
    {
      "cell_type": "code",
      "execution_count": 2,
      "metadata": {
        "id": "-hHwG3Daw3iJ"
      },
      "outputs": [],
      "source": [
        "#re :: 정규표현식을 지원하는 모듈\n",
        "import re\n",
        "\n"
      ]
    },
    {
      "cell_type": "code",
      "source": [
        "#search:: re에 속해있는 method 중 하나로, 첫번째로 패턴을 찾으면 match 객체를 반환 패턴을 찾지 못하면 None 반환\n",
        "\n",
        "m = re.search(r'haha','7hahah') #찾는 거다.\n",
        "print(m)"
      ],
      "metadata": {
        "id": "0WepKXZyxBm-",
        "colab": {
          "base_uri": "https://localhost:8080/"
        },
        "outputId": "b131b481-40fa-4f22-cb80-48c7d46d257f"
      },
      "execution_count": 4,
      "outputs": [
        {
          "output_type": "stream",
          "name": "stdout",
          "text": [
            "<re.Match object; span=(1, 5), match='haha'>\n"
          ]
        }
      ]
    },
    {
      "cell_type": "code",
      "source": [
        "m = re.search(r'[0-4]haha', '4hahah') #[0-4] 0haha,1haha,2haha,3haha,4haha\n",
        "print(m)\n"
      ],
      "metadata": {
        "id": "C2KxPqIsxCyO",
        "colab": {
          "base_uri": "https://localhost:8080/"
        },
        "outputId": "23acff0b-b050-49d5-9e41-4d58576975f9"
      },
      "execution_count": 6,
      "outputs": [
        {
          "output_type": "stream",
          "name": "stdout",
          "text": [
            "<re.Match object; span=(0, 5), match='4haha'>\n"
          ]
        }
      ]
    },
    {
      "cell_type": "code",
      "source": [
        "email = 'tony@korearemove_this.ac.kr'\n",
        "m = re.search(\"remove_this\",email)\n",
        "email = email[:m.start()] + email[m.end():]\n",
        "print(email)"
      ],
      "metadata": {
        "id": "5ZaoHLlRxEV-",
        "colab": {
          "base_uri": "https://localhost:8080/"
        },
        "outputId": "8b01aa59-ce91-4050-fb68-bffe6dd77700"
      },
      "execution_count": 7,
      "outputs": [
        {
          "output_type": "stream",
          "name": "stdout",
          "text": [
            "tony@korea.ac.kr\n"
          ]
        }
      ]
    },
    {
      "cell_type": "code",
      "source": [
        "#sub: re에 속해있는 method 중 하나로, 특정 단어나 문자를 대체하는 기능을 함\n",
        "# apple 또는 orange를 fruit로 바꿈\n",
        "re.sub('apple|orange','fruit','apple box orange tree')\n",
        "\n",
        "#| 는 or 의 의미다."
      ],
      "metadata": {
        "id": "nDM6FRYwxGtO",
        "colab": {
          "base_uri": "https://localhost:8080/",
          "height": 35
        },
        "outputId": "5f24fa9d-94d2-4ee7-94c4-7d8c36f2325d"
      },
      "execution_count": 8,
      "outputs": [
        {
          "output_type": "execute_result",
          "data": {
            "text/plain": [
              "'fruit box fruit tree'"
            ],
            "application/vnd.google.colaboratory.intrinsic+json": {
              "type": "string"
            }
          },
          "metadata": {},
          "execution_count": 8
        }
      ]
    },
    {
      "cell_type": "code",
      "source": [
        "# 숫자만 찾아서 n으로 바꿈\n",
        "re.sub('[0-9]+','n','1 2 Korea 4 Buzz Fizz 3 4')\n",
        "\n"
      ],
      "metadata": {
        "id": "bik5pPlSxJlW",
        "colab": {
          "base_uri": "https://localhost:8080/",
          "height": 35
        },
        "outputId": "865bcf57-34e2-48e0-a1a4-606a94b212fa"
      },
      "execution_count": 9,
      "outputs": [
        {
          "output_type": "execute_result",
          "data": {
            "text/plain": [
              "'n n Korea n Buzz Fizz n n'"
            ],
            "application/vnd.google.colaboratory.intrinsic+json": {
              "type": "string"
            }
          },
          "metadata": {},
          "execution_count": 9
        }
      ]
    },
    {
      "cell_type": "code",
      "source": [],
      "metadata": {
        "id": "HB-lUn_TxL1-"
      },
      "execution_count": null,
      "outputs": []
    }
  ]
}